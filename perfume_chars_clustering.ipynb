{
 "cells": [
  {
   "cell_type": "markdown",
   "metadata": {},
   "source": [
    "## <span style='color:navy'> Prepping </span>"
   ]
  },
  {
   "cell_type": "code",
   "execution_count": 329,
   "metadata": {},
   "outputs": [],
   "source": [
    "import pandas as pd"
   ]
  },
  {
   "cell_type": "code",
   "execution_count": 330,
   "metadata": {},
   "outputs": [],
   "source": [
    "data = pd.read_csv('../data/perfumes_df_ready.csv')"
   ]
  },
  {
   "cell_type": "code",
   "execution_count": 331,
   "metadata": {},
   "outputs": [
    {
     "data": {
      "text/plain": [
       "(4478, 105)"
      ]
     },
     "execution_count": 331,
     "metadata": {},
     "output_type": "execute_result"
    }
   ],
   "source": [
    "data.shape"
   ]
  },
  {
   "cell_type": "code",
   "execution_count": 332,
   "metadata": {},
   "outputs": [],
   "source": [
    "pd.set_option('max_columns', 110)"
   ]
  },
  {
   "cell_type": "code",
   "execution_count": 333,
   "metadata": {},
   "outputs": [],
   "source": [
    "def ready_df(df):\n",
    "    \"\"\"\n",
    "    Specific to the 'perfumes_df_ready.csv'. \n",
    "    Cleans up the 'gender' variable.\n",
    "    Adds dummies of 'designer', 'group', 'gender' to the dataframe, and drops original ones.\n",
    "    Adds 'perfume_id' instead of 'perfume_name' to make all numeric dataframe\n",
    "    \"\"\"\n",
    "    # cleaning up the gender column in data\n",
    "    gender = []\n",
    "    for k in df['perfume_name']:\n",
    "        gender.append(k.split('for')[1].lower().strip())\n",
    "\n",
    "\n",
    "    for n, k in enumerate(gender):\n",
    "        if ('her' in k[:4]) or ('women' in k[:]) and ('women and men' not in k):\n",
    "            gender[n]='women'\n",
    "        elif ('him' in k[:4]) or ('men' in k[:4]):\n",
    "            gender[n] = 'men'\n",
    "        elif ('women and men' in k):\n",
    "            gender[n] = 'women and men'\n",
    "        else:\n",
    "            gender[n] = 'unknown'\n",
    "            \n",
    "    \n",
    "    # replace the old with the new\n",
    "    df['gender'] = gender\n",
    "    \n",
    "    # get dummies \n",
    "    dummies = pd.get_dummies(df[['designer', 'group', 'gender']])\n",
    "    \n",
    "    # add them to the dataframe\n",
    "    new_df = pd.concat([df, dummies], axis = 1, sort = False)\n",
    "    \n",
    "    # add a quick perfume_id instead of perfume_name\n",
    "    new_df['perfume_id'] = df.index \n",
    "    new_df.drop(['all_notes','top_notes', 'middle_notes','base_notes', 'synopsis', 'main_accords', 'perfume_name',\n",
    "                'designer', 'group', 'gender'], axis = 1, inplace = True)\n",
    "    \n",
    "    return new_df"
   ]
  },
  {
   "cell_type": "code",
   "execution_count": 334,
   "metadata": {},
   "outputs": [
    {
     "data": {
      "text/html": [
       "<div>\n",
       "<style scoped>\n",
       "    .dataframe tbody tr th:only-of-type {\n",
       "        vertical-align: middle;\n",
       "    }\n",
       "\n",
       "    .dataframe tbody tr th {\n",
       "        vertical-align: top;\n",
       "    }\n",
       "\n",
       "    .dataframe thead th {\n",
       "        text-align: right;\n",
       "    }\n",
       "</style>\n",
       "<table border=\"1\" class=\"dataframe\">\n",
       "  <thead>\n",
       "    <tr style=\"text-align: right;\">\n",
       "      <th></th>\n",
       "      <th>perfume_name</th>\n",
       "      <th>designer</th>\n",
       "      <th>group</th>\n",
       "      <th>all_notes</th>\n",
       "      <th>top_notes</th>\n",
       "      <th>middle_notes</th>\n",
       "      <th>base_notes</th>\n",
       "      <th>synopsis</th>\n",
       "      <th>overall_rating</th>\n",
       "      <th>total_num_voters</th>\n",
       "      <th>gender</th>\n",
       "      <th>longvity_poor</th>\n",
       "      <th>longvity_weak</th>\n",
       "      <th>longvity_moderate</th>\n",
       "      <th>longvity_long_lasting</th>\n",
       "      <th>longvity_very_long_lasting</th>\n",
       "      <th>sillage_soft</th>\n",
       "      <th>sillage_moderate</th>\n",
       "      <th>sillage_heavy</th>\n",
       "      <th>sillage_enormous</th>\n",
       "      <th>have_it</th>\n",
       "      <th>had_it</th>\n",
       "      <th>want_it</th>\n",
       "      <th>my_signature</th>\n",
       "      <th>love_it</th>\n",
       "      <th>like_it</th>\n",
       "      <th>dislike_it</th>\n",
       "      <th>spring</th>\n",
       "      <th>summer</th>\n",
       "      <th>fall</th>\n",
       "      <th>day</th>\n",
       "      <th>night</th>\n",
       "      <th>main_accords</th>\n",
       "      <th>salty</th>\n",
       "      <th>smoky</th>\n",
       "      <th>Unnamed: 35</th>\n",
       "      <th>coconut</th>\n",
       "      <th>white floral</th>\n",
       "      <th>fresh spicy</th>\n",
       "      <th>white wine</th>\n",
       "      <th>vanilla</th>\n",
       "      <th>warm spicy</th>\n",
       "      <th>whiskey</th>\n",
       "      <th>ginger</th>\n",
       "      <th>conifer</th>\n",
       "      <th>caramel</th>\n",
       "      <th>woody</th>\n",
       "      <th>vinyl</th>\n",
       "      <th>tropical</th>\n",
       "      <th>musk</th>\n",
       "      <th>fruity</th>\n",
       "      <th>coca cola</th>\n",
       "      <th>powdery</th>\n",
       "      <th>floral</th>\n",
       "      <th>aromatic</th>\n",
       "      <th>milky</th>\n",
       "      <th>yellow floral</th>\n",
       "      <th>nutty</th>\n",
       "      <th>cacao</th>\n",
       "      <th>aquatic</th>\n",
       "      <th>camphor</th>\n",
       "      <th>red fruits</th>\n",
       "      <th>sweet</th>\n",
       "      <th>oud</th>\n",
       "      <th>almond</th>\n",
       "      <th>animalic</th>\n",
       "      <th>gourmand</th>\n",
       "      <th>rum</th>\n",
       "      <th>sand</th>\n",
       "      <th>citrus</th>\n",
       "      <th>beeswax</th>\n",
       "      <th>musky</th>\n",
       "      <th>watery</th>\n",
       "      <th>soft spicy</th>\n",
       "      <th>vodka</th>\n",
       "      <th>tobacco</th>\n",
       "      <th>fresh</th>\n",
       "      <th>tonka  coumarin</th>\n",
       "      <th>savory</th>\n",
       "      <th>violet</th>\n",
       "      <th>aldehydic</th>\n",
       "      <th>rose</th>\n",
       "      <th>terpenic</th>\n",
       "      <th>cinnamon</th>\n",
       "      <th>tuberose</th>\n",
       "      <th>sour</th>\n",
       "      <th>cherry</th>\n",
       "      <th>lactonic</th>\n",
       "      <th>herbal</th>\n",
       "      <th>narcotic</th>\n",
       "      <th>ozonic</th>\n",
       "      <th>patchouli</th>\n",
       "      <th>leather</th>\n",
       "      <th>woodsy notes</th>\n",
       "      <th>not found</th>\n",
       "      <th>honey</th>\n",
       "      <th>soapy</th>\n",
       "      <th>metallic</th>\n",
       "      <th>green</th>\n",
       "      <th>bitter</th>\n",
       "      <th>balsamic</th>\n",
       "      <th>marine</th>\n",
       "      <th>earthy</th>\n",
       "      <th>amber</th>\n",
       "      <th>coffee</th>\n",
       "    </tr>\n",
       "  </thead>\n",
       "  <tbody>\n",
       "    <tr>\n",
       "      <th>0</th>\n",
       "      <td>0</td>\n",
       "      <td>0</td>\n",
       "      <td>0</td>\n",
       "      <td>0</td>\n",
       "      <td>0</td>\n",
       "      <td>0</td>\n",
       "      <td>0</td>\n",
       "      <td>0</td>\n",
       "      <td>0</td>\n",
       "      <td>0</td>\n",
       "      <td>0</td>\n",
       "      <td>0</td>\n",
       "      <td>0</td>\n",
       "      <td>0</td>\n",
       "      <td>0</td>\n",
       "      <td>0</td>\n",
       "      <td>0</td>\n",
       "      <td>0</td>\n",
       "      <td>0</td>\n",
       "      <td>0</td>\n",
       "      <td>0</td>\n",
       "      <td>0</td>\n",
       "      <td>0</td>\n",
       "      <td>0</td>\n",
       "      <td>0</td>\n",
       "      <td>0</td>\n",
       "      <td>0</td>\n",
       "      <td>0</td>\n",
       "      <td>0</td>\n",
       "      <td>0</td>\n",
       "      <td>0</td>\n",
       "      <td>0</td>\n",
       "      <td>0</td>\n",
       "      <td>0</td>\n",
       "      <td>0</td>\n",
       "      <td>0</td>\n",
       "      <td>0</td>\n",
       "      <td>0</td>\n",
       "      <td>0</td>\n",
       "      <td>0</td>\n",
       "      <td>0</td>\n",
       "      <td>0</td>\n",
       "      <td>0</td>\n",
       "      <td>0</td>\n",
       "      <td>0</td>\n",
       "      <td>0</td>\n",
       "      <td>0</td>\n",
       "      <td>0</td>\n",
       "      <td>0</td>\n",
       "      <td>0</td>\n",
       "      <td>0</td>\n",
       "      <td>0</td>\n",
       "      <td>0</td>\n",
       "      <td>0</td>\n",
       "      <td>0</td>\n",
       "      <td>0</td>\n",
       "      <td>0</td>\n",
       "      <td>0</td>\n",
       "      <td>0</td>\n",
       "      <td>0</td>\n",
       "      <td>0</td>\n",
       "      <td>0</td>\n",
       "      <td>0</td>\n",
       "      <td>0</td>\n",
       "      <td>0</td>\n",
       "      <td>0</td>\n",
       "      <td>0</td>\n",
       "      <td>0</td>\n",
       "      <td>0</td>\n",
       "      <td>0</td>\n",
       "      <td>0</td>\n",
       "      <td>0</td>\n",
       "      <td>0</td>\n",
       "      <td>0</td>\n",
       "      <td>0</td>\n",
       "      <td>0</td>\n",
       "      <td>0</td>\n",
       "      <td>0</td>\n",
       "      <td>0</td>\n",
       "      <td>0</td>\n",
       "      <td>0</td>\n",
       "      <td>0</td>\n",
       "      <td>0</td>\n",
       "      <td>0</td>\n",
       "      <td>0</td>\n",
       "      <td>0</td>\n",
       "      <td>0</td>\n",
       "      <td>0</td>\n",
       "      <td>0</td>\n",
       "      <td>0</td>\n",
       "      <td>0</td>\n",
       "      <td>0</td>\n",
       "      <td>0</td>\n",
       "      <td>0</td>\n",
       "      <td>0</td>\n",
       "      <td>0</td>\n",
       "      <td>0</td>\n",
       "      <td>0</td>\n",
       "      <td>0</td>\n",
       "      <td>0</td>\n",
       "      <td>0</td>\n",
       "      <td>0</td>\n",
       "      <td>0</td>\n",
       "      <td>0</td>\n",
       "      <td>0</td>\n",
       "    </tr>\n",
       "  </tbody>\n",
       "</table>\n",
       "</div>"
      ],
      "text/plain": [
       "   perfume_name  designer  group  all_notes  top_notes  middle_notes  \\\n",
       "0             0         0      0          0          0             0   \n",
       "\n",
       "   base_notes  synopsis  overall_rating  total_num_voters  gender  \\\n",
       "0           0         0               0                 0       0   \n",
       "\n",
       "   longvity_poor  longvity_weak  longvity_moderate  longvity_long_lasting  \\\n",
       "0              0              0                  0                      0   \n",
       "\n",
       "   longvity_very_long_lasting  sillage_soft  sillage_moderate  sillage_heavy  \\\n",
       "0                           0             0                 0              0   \n",
       "\n",
       "   sillage_enormous  have_it  had_it  want_it  my_signature  love_it  like_it  \\\n",
       "0                 0        0       0        0             0        0        0   \n",
       "\n",
       "   dislike_it  spring  summer  fall  day  night  main_accords  salty  smoky  \\\n",
       "0           0       0       0     0    0      0             0      0      0   \n",
       "\n",
       "   Unnamed: 35  coconut  white floral  fresh spicy  white wine  vanilla  \\\n",
       "0            0        0             0            0           0        0   \n",
       "\n",
       "   warm spicy  whiskey  ginger  conifer  caramel  woody  vinyl  tropical  \\\n",
       "0           0        0       0        0        0      0      0         0   \n",
       "\n",
       "   musk  fruity  coca cola  powdery  floral  aromatic  milky  yellow floral  \\\n",
       "0     0       0          0        0       0         0      0              0   \n",
       "\n",
       "   nutty  cacao  aquatic  camphor  red fruits  sweet  oud  almond  animalic  \\\n",
       "0      0      0        0        0           0      0    0       0         0   \n",
       "\n",
       "   gourmand  rum  sand  citrus  beeswax  musky  watery  soft spicy  vodka  \\\n",
       "0         0    0     0       0        0      0       0           0      0   \n",
       "\n",
       "   tobacco  fresh  tonka  coumarin  savory  violet  aldehydic  rose  terpenic  \\\n",
       "0        0      0                0       0       0          0     0         0   \n",
       "\n",
       "   cinnamon  tuberose  sour  cherry  lactonic  herbal  narcotic  ozonic  \\\n",
       "0         0         0     0       0         0       0         0       0   \n",
       "\n",
       "   patchouli  leather  woodsy notes  not found  honey  soapy  metallic  green  \\\n",
       "0          0        0             0          0      0      0         0      0   \n",
       "\n",
       "   bitter  balsamic  marine  earthy  amber  coffee  \n",
       "0       0         0       0       0      0       0  "
      ]
     },
     "execution_count": 334,
     "metadata": {},
     "output_type": "execute_result"
    }
   ],
   "source": [
    "# making sure we don't have any nulls in the main data frame\n",
    "data.isnull().sum().to_frame().T"
   ]
  },
  {
   "cell_type": "code",
   "execution_count": 342,
   "metadata": {},
   "outputs": [],
   "source": [
    "data = ready_df(data)"
   ]
  },
  {
   "cell_type": "code",
   "execution_count": 343,
   "metadata": {},
   "outputs": [
    {
     "name": "stderr",
     "output_type": "stream",
     "text": [
      "/anaconda3/lib/python3.6/site-packages/pandas/core/frame.py:3940: SettingWithCopyWarning: \n",
      "A value is trying to be set on a copy of a slice from a DataFrame\n",
      "\n",
      "See the caveats in the documentation: http://pandas.pydata.org/pandas-docs/stable/indexing.html#indexing-view-versus-copy\n",
      "  errors=errors)\n"
     ]
    }
   ],
   "source": [
    "# make test and train dataframes:\n",
    "test_df = data.loc[data['overall_rating'] == -1, :]\n",
    "test_df.drop(['overall_rating'], axis = 1, inplace = True)\n",
    "\n",
    "df = data.loc[data['overall_rating']!=-1, :]\n",
    "# don't mind the warning, it applied anyway"
   ]
  },
  {
   "cell_type": "code",
   "execution_count": 344,
   "metadata": {},
   "outputs": [
    {
     "name": "stdout",
     "output_type": "stream",
     "text": [
      "(34, 178) (4444, 179)\n"
     ]
    }
   ],
   "source": [
    "print(test_df.shape, df.shape)"
   ]
  },
  {
   "cell_type": "code",
   "execution_count": null,
   "metadata": {},
   "outputs": [],
   "source": []
  },
  {
   "cell_type": "markdown",
   "metadata": {},
   "source": [
    "***\n",
    "## <span style='color:navy'> Clustering </span>"
   ]
  },
  {
   "cell_type": "code",
   "execution_count": 345,
   "metadata": {},
   "outputs": [],
   "source": [
    "from sklearn.model_selection import train_test_split\n",
    "\n",
    "X = df.drop(['overall_rating'], axis = 1)\n",
    "y = df['overall_rating']\n",
    "\n",
    "X_train, X_test, y_train, y_test = train_test_split(X,y, test_size = 0.2, random_state = 62019)"
   ]
  },
  {
   "cell_type": "code",
   "execution_count": 346,
   "metadata": {},
   "outputs": [],
   "source": [
    "from sklearn.cluster import DBSCAN\n",
    "from sklearn.preprocessing import StandardScaler"
   ]
  },
  {
   "cell_type": "code",
   "execution_count": 347,
   "metadata": {},
   "outputs": [],
   "source": [
    "ss = StandardScaler()"
   ]
  },
  {
   "cell_type": "code",
   "execution_count": 348,
   "metadata": {},
   "outputs": [
    {
     "name": "stderr",
     "output_type": "stream",
     "text": [
      "/anaconda3/lib/python3.6/site-packages/sklearn/preprocessing/data.py:625: DataConversionWarning: Data with input dtype uint8, int64, float64 were all converted to float64 by StandardScaler.\n",
      "  return self.partial_fit(X, y)\n",
      "/anaconda3/lib/python3.6/site-packages/sklearn/base.py:462: DataConversionWarning: Data with input dtype uint8, int64, float64 were all converted to float64 by StandardScaler.\n",
      "  return self.fit(X, **fit_params).transform(X)\n",
      "/anaconda3/lib/python3.6/site-packages/ipykernel_launcher.py:2: DataConversionWarning: Data with input dtype uint8, int64, float64 were all converted to float64 by StandardScaler.\n",
      "  \n"
     ]
    }
   ],
   "source": [
    "X_train = ss.fit_transform(X_train)\n",
    "X_test = ss.transform(X_test)"
   ]
  },
  {
   "cell_type": "code",
   "execution_count": 349,
   "metadata": {},
   "outputs": [
    {
     "name": "stdout",
     "output_type": "stream",
     "text": [
      "(3555, 178) (889, 178)\n"
     ]
    }
   ],
   "source": [
    "print(X_train.shape, X_test.shape)"
   ]
  },
  {
   "cell_type": "code",
   "execution_count": 403,
   "metadata": {},
   "outputs": [],
   "source": [
    "from sklearn.cluster import KMeans\n",
    "kmeans = KMeans(n_clusters = 2000)"
   ]
  },
  {
   "cell_type": "code",
   "execution_count": 351,
   "metadata": {},
   "outputs": [
    {
     "data": {
      "text/plain": [
       "array([[13.26364597, 11.32105223, 12.90463025, ..., 13.27460774,\n",
       "        12.05249811, 16.29990663],\n",
       "       [16.69909683, 15.82272259, 15.22292111, ..., 13.92330271,\n",
       "        16.04654378, 19.55591795],\n",
       "       [14.87013689, 10.9570257 , 14.5132377 , ..., 15.27028863,\n",
       "        13.90731408, 17.43117182],\n",
       "       ...,\n",
       "       [15.19170524, 13.2023881 , 13.18531546, ..., 15.19490241,\n",
       "        14.87670737, 15.79048035],\n",
       "       [14.52568849, 12.69070907, 12.45052474, ..., 14.54400647,\n",
       "        13.96038508, 15.2170328 ],\n",
       "       [19.11109872, 18.51470753, 18.56937016, ..., 19.00781222,\n",
       "        18.43268331, 22.01333182]])"
      ]
     },
     "execution_count": 351,
     "metadata": {},
     "output_type": "execute_result"
    }
   ],
   "source": [
    "kmeans.fit_transform(X_train)"
   ]
  },
  {
   "cell_type": "code",
   "execution_count": 352,
   "metadata": {},
   "outputs": [],
   "source": [
    "labels = kmeans.labels_"
   ]
  },
  {
   "cell_type": "code",
   "execution_count": 353,
   "metadata": {},
   "outputs": [],
   "source": [
    "from sklearn.metrics import silhouette_score"
   ]
  },
  {
   "cell_type": "code",
   "execution_count": 354,
   "metadata": {},
   "outputs": [
    {
     "name": "stdout",
     "output_type": "stream",
     "text": [
      "silhouette coefficient: 0.113\n"
     ]
    }
   ],
   "source": [
    "print(\"silhouette coefficient: %.3f\" % silhouette_score(X_train, labels))"
   ]
  },
  {
   "cell_type": "markdown",
   "metadata": {},
   "source": [
    "<span style='color:navy'> **What if we changed the problem into classification problem instead? Would that better our clustering?** </span>"
   ]
  },
  {
   "cell_type": "code",
   "execution_count": 355,
   "metadata": {},
   "outputs": [],
   "source": [
    "def classify_target(df):\n",
    "    \n",
    "    # make sure format is unified\n",
    "    ratings_continuous = df['overall_rating'].map(lambda x: round(float(x), 2))\n",
    "    \n",
    "    # make target into bins of 0.5 width\n",
    "    new_y = []\n",
    "    for y in ratings_continuous:\n",
    "        if (y > int(y)) & (y <= int(y) + .5):\n",
    "            new_y.append(int(y) + .5)\n",
    "\n",
    "        elif (y > int(y) + .5) & (y < int(y) + 1):\n",
    "            new_y.append(int(y) + 1)\n",
    "\n",
    "        elif (y == int(y)):\n",
    "            new_y.append(y)\n",
    "            \n",
    "    # add the new ratings to the data frame; and remove old ones\n",
    "    df['ratings_classes'] = new_y\n",
    "    df.drop('overall_rating', axis = 1, inplace = True)\n",
    "    \n",
    "    return df"
   ]
  },
  {
   "cell_type": "code",
   "execution_count": 356,
   "metadata": {},
   "outputs": [],
   "source": [
    "# starting over\n",
    "data = pd.read_csv('../data/perfumes_df_ready.csv')\n",
    "data = ready_df(data)"
   ]
  },
  {
   "cell_type": "code",
   "execution_count": 358,
   "metadata": {},
   "outputs": [],
   "source": [
    "# the new data frame\n",
    "data = classify_target(data)"
   ]
  },
  {
   "cell_type": "code",
   "execution_count": 361,
   "metadata": {},
   "outputs": [
    {
     "data": {
      "text/html": [
       "<div>\n",
       "<style scoped>\n",
       "    .dataframe tbody tr th:only-of-type {\n",
       "        vertical-align: middle;\n",
       "    }\n",
       "\n",
       "    .dataframe tbody tr th {\n",
       "        vertical-align: top;\n",
       "    }\n",
       "\n",
       "    .dataframe thead th {\n",
       "        text-align: right;\n",
       "    }\n",
       "</style>\n",
       "<table border=\"1\" class=\"dataframe\">\n",
       "  <thead>\n",
       "    <tr style=\"text-align: right;\">\n",
       "      <th></th>\n",
       "      <th>total_num_voters</th>\n",
       "      <th>longvity_poor</th>\n",
       "      <th>longvity_weak</th>\n",
       "      <th>longvity_moderate</th>\n",
       "      <th>longvity_long_lasting</th>\n",
       "      <th>longvity_very_long_lasting</th>\n",
       "      <th>sillage_soft</th>\n",
       "      <th>sillage_moderate</th>\n",
       "      <th>sillage_heavy</th>\n",
       "      <th>sillage_enormous</th>\n",
       "      <th>have_it</th>\n",
       "      <th>had_it</th>\n",
       "      <th>want_it</th>\n",
       "      <th>my_signature</th>\n",
       "      <th>love_it</th>\n",
       "      <th>like_it</th>\n",
       "      <th>dislike_it</th>\n",
       "      <th>spring</th>\n",
       "      <th>summer</th>\n",
       "      <th>fall</th>\n",
       "      <th>day</th>\n",
       "      <th>night</th>\n",
       "      <th>salty</th>\n",
       "      <th>smoky</th>\n",
       "      <th>Unnamed: 35</th>\n",
       "      <th>coconut</th>\n",
       "      <th>white floral</th>\n",
       "      <th>fresh spicy</th>\n",
       "      <th>white wine</th>\n",
       "      <th>vanilla</th>\n",
       "      <th>warm spicy</th>\n",
       "      <th>whiskey</th>\n",
       "      <th>ginger</th>\n",
       "      <th>conifer</th>\n",
       "      <th>caramel</th>\n",
       "      <th>woody</th>\n",
       "      <th>vinyl</th>\n",
       "      <th>tropical</th>\n",
       "      <th>musk</th>\n",
       "      <th>fruity</th>\n",
       "      <th>coca cola</th>\n",
       "      <th>powdery</th>\n",
       "      <th>floral</th>\n",
       "      <th>aromatic</th>\n",
       "      <th>milky</th>\n",
       "      <th>yellow floral</th>\n",
       "      <th>nutty</th>\n",
       "      <th>cacao</th>\n",
       "      <th>aquatic</th>\n",
       "      <th>camphor</th>\n",
       "      <th>red fruits</th>\n",
       "      <th>sweet</th>\n",
       "      <th>oud</th>\n",
       "      <th>almond</th>\n",
       "      <th>animalic</th>\n",
       "      <th>...</th>\n",
       "      <th>designer_Lancome</th>\n",
       "      <th>designer_Marc Jacobs</th>\n",
       "      <th>designer_Narciso Rodriguez</th>\n",
       "      <th>designer_Nina Ricci</th>\n",
       "      <th>designer_Paco Rabanne</th>\n",
       "      <th>designer_Prada</th>\n",
       "      <th>designer_Ralph Lauren</th>\n",
       "      <th>designer_Salvador Dali</th>\n",
       "      <th>designer_Serge Lutens</th>\n",
       "      <th>designer_Tom Ford</th>\n",
       "      <th>designer_Valentino</th>\n",
       "      <th>designer_Van Cleef &amp; Arpels</th>\n",
       "      <th>designer_Versace</th>\n",
       "      <th>designer_Viktor&amp;Rolf</th>\n",
       "      <th>designer_Yves Rocher</th>\n",
       "      <th>designer_Yves Saint Laurent</th>\n",
       "      <th>group_Aromatic</th>\n",
       "      <th>group_Aromatic Aquatic</th>\n",
       "      <th>group_Aromatic Fougere</th>\n",
       "      <th>group_Aromatic Fruity</th>\n",
       "      <th>group_Aromatic Green</th>\n",
       "      <th>group_Aromatic Spicy</th>\n",
       "      <th>group_Chypre</th>\n",
       "      <th>group_Chypre Floral</th>\n",
       "      <th>group_Chypre Fruity</th>\n",
       "      <th>group_Citrus</th>\n",
       "      <th>group_Citrus Aromatic</th>\n",
       "      <th>group_Citrus Gourmand</th>\n",
       "      <th>group_Floral</th>\n",
       "      <th>group_Floral Aldehyde</th>\n",
       "      <th>group_Floral Aquatic</th>\n",
       "      <th>group_Floral Fruity</th>\n",
       "      <th>group_Floral Fruity Gourmand</th>\n",
       "      <th>group_Floral Green</th>\n",
       "      <th>group_Floral Woody Musk</th>\n",
       "      <th>group_Leather</th>\n",
       "      <th>group_Oriental</th>\n",
       "      <th>group_Oriental Floral</th>\n",
       "      <th>group_Oriental Fougere</th>\n",
       "      <th>group_Oriental Spicy</th>\n",
       "      <th>group_Oriental Vanilla</th>\n",
       "      <th>group_Oriental Woody</th>\n",
       "      <th>group_Woody</th>\n",
       "      <th>group_Woody Aquatic</th>\n",
       "      <th>group_Woody Aromatic</th>\n",
       "      <th>group_Woody Chypre</th>\n",
       "      <th>group_Woody Floral Musk</th>\n",
       "      <th>group_Woody Spicy</th>\n",
       "      <th>group_not found</th>\n",
       "      <th>gender_men</th>\n",
       "      <th>gender_unknown</th>\n",
       "      <th>gender_women</th>\n",
       "      <th>gender_women and men</th>\n",
       "      <th>perfume_id</th>\n",
       "      <th>ratings_classes</th>\n",
       "    </tr>\n",
       "  </thead>\n",
       "  <tbody>\n",
       "    <tr>\n",
       "      <th>0</th>\n",
       "      <td>410.0</td>\n",
       "      <td>14</td>\n",
       "      <td>25</td>\n",
       "      <td>35</td>\n",
       "      <td>14</td>\n",
       "      <td>12</td>\n",
       "      <td>47</td>\n",
       "      <td>34</td>\n",
       "      <td>20</td>\n",
       "      <td>31</td>\n",
       "      <td>279</td>\n",
       "      <td>40</td>\n",
       "      <td>272</td>\n",
       "      <td>3</td>\n",
       "      <td>100</td>\n",
       "      <td>74</td>\n",
       "      <td>26</td>\n",
       "      <td>3</td>\n",
       "      <td>20</td>\n",
       "      <td>54</td>\n",
       "      <td>5</td>\n",
       "      <td>56</td>\n",
       "      <td>0.0</td>\n",
       "      <td>0.0</td>\n",
       "      <td>0.0</td>\n",
       "      <td>80.0</td>\n",
       "      <td>119.0</td>\n",
       "      <td>0.0</td>\n",
       "      <td>0.0</td>\n",
       "      <td>0.0</td>\n",
       "      <td>0.0</td>\n",
       "      <td>0.0</td>\n",
       "      <td>0.0</td>\n",
       "      <td>0.0</td>\n",
       "      <td>0.0</td>\n",
       "      <td>0.0</td>\n",
       "      <td>0.0</td>\n",
       "      <td>0.0</td>\n",
       "      <td>0.0</td>\n",
       "      <td>0.0</td>\n",
       "      <td>0.0</td>\n",
       "      <td>0.0</td>\n",
       "      <td>0.0</td>\n",
       "      <td>52.0</td>\n",
       "      <td>0.0</td>\n",
       "      <td>0.0</td>\n",
       "      <td>0.0</td>\n",
       "      <td>0.0</td>\n",
       "      <td>0.0</td>\n",
       "      <td>0.0</td>\n",
       "      <td>0.0</td>\n",
       "      <td>78.0</td>\n",
       "      <td>0.0</td>\n",
       "      <td>0.0</td>\n",
       "      <td>0.0</td>\n",
       "      <td>...</td>\n",
       "      <td>0</td>\n",
       "      <td>0</td>\n",
       "      <td>0</td>\n",
       "      <td>0</td>\n",
       "      <td>0</td>\n",
       "      <td>0</td>\n",
       "      <td>0</td>\n",
       "      <td>0</td>\n",
       "      <td>0</td>\n",
       "      <td>1</td>\n",
       "      <td>0</td>\n",
       "      <td>0</td>\n",
       "      <td>0</td>\n",
       "      <td>0</td>\n",
       "      <td>0</td>\n",
       "      <td>0</td>\n",
       "      <td>0</td>\n",
       "      <td>0</td>\n",
       "      <td>0</td>\n",
       "      <td>0</td>\n",
       "      <td>0</td>\n",
       "      <td>0</td>\n",
       "      <td>0</td>\n",
       "      <td>0</td>\n",
       "      <td>0</td>\n",
       "      <td>0</td>\n",
       "      <td>0</td>\n",
       "      <td>0</td>\n",
       "      <td>0</td>\n",
       "      <td>0</td>\n",
       "      <td>0</td>\n",
       "      <td>0</td>\n",
       "      <td>0</td>\n",
       "      <td>0</td>\n",
       "      <td>0</td>\n",
       "      <td>0</td>\n",
       "      <td>0</td>\n",
       "      <td>1</td>\n",
       "      <td>0</td>\n",
       "      <td>0</td>\n",
       "      <td>0</td>\n",
       "      <td>0</td>\n",
       "      <td>0</td>\n",
       "      <td>0</td>\n",
       "      <td>0</td>\n",
       "      <td>0</td>\n",
       "      <td>0</td>\n",
       "      <td>0</td>\n",
       "      <td>0</td>\n",
       "      <td>0</td>\n",
       "      <td>0</td>\n",
       "      <td>0</td>\n",
       "      <td>1</td>\n",
       "      <td>0</td>\n",
       "      <td>4.5</td>\n",
       "    </tr>\n",
       "    <tr>\n",
       "      <th>1</th>\n",
       "      <td>2311.0</td>\n",
       "      <td>33</td>\n",
       "      <td>39</td>\n",
       "      <td>173</td>\n",
       "      <td>402</td>\n",
       "      <td>97</td>\n",
       "      <td>87</td>\n",
       "      <td>285</td>\n",
       "      <td>366</td>\n",
       "      <td>111</td>\n",
       "      <td>2021</td>\n",
       "      <td>638</td>\n",
       "      <td>1252</td>\n",
       "      <td>64</td>\n",
       "      <td>100</td>\n",
       "      <td>70</td>\n",
       "      <td>37</td>\n",
       "      <td>55</td>\n",
       "      <td>41</td>\n",
       "      <td>12</td>\n",
       "      <td>58</td>\n",
       "      <td>41</td>\n",
       "      <td>0.0</td>\n",
       "      <td>0.0</td>\n",
       "      <td>0.0</td>\n",
       "      <td>0.0</td>\n",
       "      <td>0.0</td>\n",
       "      <td>0.0</td>\n",
       "      <td>0.0</td>\n",
       "      <td>0.0</td>\n",
       "      <td>0.0</td>\n",
       "      <td>0.0</td>\n",
       "      <td>0.0</td>\n",
       "      <td>0.0</td>\n",
       "      <td>0.0</td>\n",
       "      <td>0.0</td>\n",
       "      <td>0.0</td>\n",
       "      <td>0.0</td>\n",
       "      <td>0.0</td>\n",
       "      <td>0.0</td>\n",
       "      <td>0.0</td>\n",
       "      <td>0.0</td>\n",
       "      <td>0.0</td>\n",
       "      <td>0.0</td>\n",
       "      <td>0.0</td>\n",
       "      <td>0.0</td>\n",
       "      <td>0.0</td>\n",
       "      <td>0.0</td>\n",
       "      <td>96.0</td>\n",
       "      <td>0.0</td>\n",
       "      <td>0.0</td>\n",
       "      <td>0.0</td>\n",
       "      <td>0.0</td>\n",
       "      <td>0.0</td>\n",
       "      <td>0.0</td>\n",
       "      <td>...</td>\n",
       "      <td>0</td>\n",
       "      <td>0</td>\n",
       "      <td>1</td>\n",
       "      <td>0</td>\n",
       "      <td>0</td>\n",
       "      <td>0</td>\n",
       "      <td>0</td>\n",
       "      <td>0</td>\n",
       "      <td>0</td>\n",
       "      <td>0</td>\n",
       "      <td>0</td>\n",
       "      <td>0</td>\n",
       "      <td>0</td>\n",
       "      <td>0</td>\n",
       "      <td>0</td>\n",
       "      <td>0</td>\n",
       "      <td>0</td>\n",
       "      <td>0</td>\n",
       "      <td>1</td>\n",
       "      <td>0</td>\n",
       "      <td>0</td>\n",
       "      <td>0</td>\n",
       "      <td>0</td>\n",
       "      <td>0</td>\n",
       "      <td>0</td>\n",
       "      <td>0</td>\n",
       "      <td>0</td>\n",
       "      <td>0</td>\n",
       "      <td>0</td>\n",
       "      <td>0</td>\n",
       "      <td>0</td>\n",
       "      <td>0</td>\n",
       "      <td>0</td>\n",
       "      <td>0</td>\n",
       "      <td>0</td>\n",
       "      <td>0</td>\n",
       "      <td>0</td>\n",
       "      <td>0</td>\n",
       "      <td>0</td>\n",
       "      <td>0</td>\n",
       "      <td>0</td>\n",
       "      <td>0</td>\n",
       "      <td>0</td>\n",
       "      <td>0</td>\n",
       "      <td>0</td>\n",
       "      <td>0</td>\n",
       "      <td>0</td>\n",
       "      <td>0</td>\n",
       "      <td>0</td>\n",
       "      <td>1</td>\n",
       "      <td>0</td>\n",
       "      <td>0</td>\n",
       "      <td>0</td>\n",
       "      <td>1</td>\n",
       "      <td>4.0</td>\n",
       "    </tr>\n",
       "  </tbody>\n",
       "</table>\n",
       "<p>2 rows × 179 columns</p>\n",
       "</div>"
      ],
      "text/plain": [
       "   total_num_voters  longvity_poor  longvity_weak  longvity_moderate  \\\n",
       "0             410.0             14             25                 35   \n",
       "1            2311.0             33             39                173   \n",
       "\n",
       "   longvity_long_lasting  longvity_very_long_lasting  sillage_soft  \\\n",
       "0                     14                          12            47   \n",
       "1                    402                          97            87   \n",
       "\n",
       "   sillage_moderate  sillage_heavy  sillage_enormous  have_it  had_it  \\\n",
       "0                34             20                31      279      40   \n",
       "1               285            366               111     2021     638   \n",
       "\n",
       "   want_it  my_signature  love_it  like_it  dislike_it  spring  summer  fall  \\\n",
       "0      272             3      100       74          26       3      20    54   \n",
       "1     1252            64      100       70          37      55      41    12   \n",
       "\n",
       "   day  night  salty  smoky  Unnamed: 35  coconut  white floral  fresh spicy  \\\n",
       "0    5     56    0.0    0.0          0.0     80.0         119.0          0.0   \n",
       "1   58     41    0.0    0.0          0.0      0.0           0.0          0.0   \n",
       "\n",
       "   white wine  vanilla  warm spicy  whiskey  ginger  conifer  caramel  woody  \\\n",
       "0         0.0      0.0         0.0      0.0     0.0      0.0      0.0    0.0   \n",
       "1         0.0      0.0         0.0      0.0     0.0      0.0      0.0    0.0   \n",
       "\n",
       "   vinyl  tropical  musk  fruity  coca cola  powdery  floral  aromatic  milky  \\\n",
       "0    0.0       0.0   0.0     0.0        0.0      0.0     0.0      52.0    0.0   \n",
       "1    0.0       0.0   0.0     0.0        0.0      0.0     0.0       0.0    0.0   \n",
       "\n",
       "   yellow floral  nutty  cacao  aquatic  camphor  red fruits  sweet  oud  \\\n",
       "0            0.0    0.0    0.0      0.0      0.0         0.0   78.0  0.0   \n",
       "1            0.0    0.0    0.0     96.0      0.0         0.0    0.0  0.0   \n",
       "\n",
       "   almond  animalic  ...  designer_Lancome  designer_Marc Jacobs  \\\n",
       "0     0.0       0.0  ...                 0                     0   \n",
       "1     0.0       0.0  ...                 0                     0   \n",
       "\n",
       "   designer_Narciso Rodriguez  designer_Nina Ricci  designer_Paco Rabanne  \\\n",
       "0                           0                    0                      0   \n",
       "1                           1                    0                      0   \n",
       "\n",
       "   designer_Prada  designer_Ralph Lauren  designer_Salvador Dali  \\\n",
       "0               0                      0                       0   \n",
       "1               0                      0                       0   \n",
       "\n",
       "   designer_Serge Lutens  designer_Tom Ford  designer_Valentino  \\\n",
       "0                      0                  1                   0   \n",
       "1                      0                  0                   0   \n",
       "\n",
       "   designer_Van Cleef & Arpels  designer_Versace  designer_Viktor&Rolf  \\\n",
       "0                            0                 0                     0   \n",
       "1                            0                 0                     0   \n",
       "\n",
       "   designer_Yves Rocher  designer_Yves Saint Laurent  group_Aromatic  \\\n",
       "0                     0                            0               0   \n",
       "1                     0                            0               0   \n",
       "\n",
       "   group_Aromatic Aquatic  group_Aromatic Fougere  group_Aromatic Fruity  \\\n",
       "0                       0                       0                      0   \n",
       "1                       0                       1                      0   \n",
       "\n",
       "   group_Aromatic Green  group_Aromatic Spicy  group_Chypre  \\\n",
       "0                     0                     0             0   \n",
       "1                     0                     0             0   \n",
       "\n",
       "   group_Chypre Floral  group_Chypre Fruity  group_Citrus  \\\n",
       "0                    0                    0             0   \n",
       "1                    0                    0             0   \n",
       "\n",
       "   group_Citrus Aromatic  group_Citrus Gourmand  group_Floral  \\\n",
       "0                      0                      0             0   \n",
       "1                      0                      0             0   \n",
       "\n",
       "   group_Floral Aldehyde  group_Floral Aquatic  group_Floral Fruity  \\\n",
       "0                      0                     0                    0   \n",
       "1                      0                     0                    0   \n",
       "\n",
       "   group_Floral Fruity Gourmand  group_Floral Green  group_Floral Woody Musk  \\\n",
       "0                             0                   0                        0   \n",
       "1                             0                   0                        0   \n",
       "\n",
       "   group_Leather  group_Oriental  group_Oriental Floral  \\\n",
       "0              0               0                      1   \n",
       "1              0               0                      0   \n",
       "\n",
       "   group_Oriental Fougere  group_Oriental Spicy  group_Oriental Vanilla  \\\n",
       "0                       0                     0                       0   \n",
       "1                       0                     0                       0   \n",
       "\n",
       "   group_Oriental Woody  group_Woody  group_Woody Aquatic  \\\n",
       "0                     0            0                    0   \n",
       "1                     0            0                    0   \n",
       "\n",
       "   group_Woody Aromatic  group_Woody Chypre  group_Woody Floral Musk  \\\n",
       "0                     0                   0                        0   \n",
       "1                     0                   0                        0   \n",
       "\n",
       "   group_Woody Spicy  group_not found  gender_men  gender_unknown  \\\n",
       "0                  0                0           0               0   \n",
       "1                  0                0           1               0   \n",
       "\n",
       "   gender_women  gender_women and men  perfume_id  ratings_classes  \n",
       "0             0                     1           0              4.5  \n",
       "1             0                     0           1              4.0  \n",
       "\n",
       "[2 rows x 179 columns]"
      ]
     },
     "execution_count": 361,
     "metadata": {},
     "output_type": "execute_result"
    }
   ],
   "source": [
    "data.head(2)"
   ]
  },
  {
   "cell_type": "code",
   "execution_count": 362,
   "metadata": {},
   "outputs": [
    {
     "name": "stderr",
     "output_type": "stream",
     "text": [
      "/anaconda3/lib/python3.6/site-packages/pandas/core/frame.py:3940: SettingWithCopyWarning: \n",
      "A value is trying to be set on a copy of a slice from a DataFrame\n",
      "\n",
      "See the caveats in the documentation: http://pandas.pydata.org/pandas-docs/stable/indexing.html#indexing-view-versus-copy\n",
      "  errors=errors)\n"
     ]
    }
   ],
   "source": [
    "# make training and testing data frames again\n",
    "test_df = data.loc[data['ratings_classes'] == -1, :]\n",
    "test_df.drop(['ratings_classes'], axis = 1, inplace = True)\n",
    "\n",
    "df = data.loc[data['ratings_classes']!=-1, :]"
   ]
  },
  {
   "cell_type": "code",
   "execution_count": 363,
   "metadata": {},
   "outputs": [
    {
     "name": "stderr",
     "output_type": "stream",
     "text": [
      "/anaconda3/lib/python3.6/site-packages/sklearn/preprocessing/data.py:625: DataConversionWarning: Data with input dtype uint8, int64, float64 were all converted to float64 by StandardScaler.\n",
      "  return self.partial_fit(X, y)\n",
      "/anaconda3/lib/python3.6/site-packages/sklearn/base.py:462: DataConversionWarning: Data with input dtype uint8, int64, float64 were all converted to float64 by StandardScaler.\n",
      "  return self.fit(X, **fit_params).transform(X)\n",
      "/anaconda3/lib/python3.6/site-packages/ipykernel_launcher.py:8: DataConversionWarning: Data with input dtype uint8, int64, float64 were all converted to float64 by StandardScaler.\n",
      "  \n"
     ]
    }
   ],
   "source": [
    "# splitting and standarizing again. All models already instantiated above\n",
    "X = df.drop(['ratings_classes'], axis = 1)\n",
    "y = df['ratings_classes']\n",
    "\n",
    "X_train, X_test, y_train, y_test = train_test_split(X,y, test_size = 0.2, random_state = 62019)\n",
    "\n",
    "X_train = ss.fit_transform(X_train)\n",
    "X_test = ss.transform(X_test)"
   ]
  },
  {
   "cell_type": "code",
   "execution_count": 402,
   "metadata": {},
   "outputs": [
    {
     "name": "stdout",
     "output_type": "stream",
     "text": [
      "silhouette coefficient: 0.115\n"
     ]
    }
   ],
   "source": [
    "# running the clustering model again, and checking for score\n",
    "kmeans.fit_transform(X_train)\n",
    "\n",
    "labels = kmeans.labels_\n",
    "\n",
    "print(\"silhouette coefficient: %.3f\" % silhouette_score(X_train, labels))"
   ]
  },
  {
   "cell_type": "markdown",
   "metadata": {},
   "source": [
    "<span style='color:navy'> Since that didn't better our clustering. I'll try another model on the now a multi-class classification problem </span>"
   ]
  },
  {
   "cell_type": "code",
   "execution_count": 367,
   "metadata": {},
   "outputs": [],
   "source": [
    "from sklearn.cluster import DBSCAN"
   ]
  },
  {
   "cell_type": "code",
   "execution_count": 374,
   "metadata": {},
   "outputs": [
    {
     "data": {
      "text/plain": [
       "DBSCAN(algorithm='auto', eps=1, leaf_size=30, metric='euclidean',\n",
       "    metric_params=None, min_samples=50, n_jobs=None, p=None)"
      ]
     },
     "execution_count": 374,
     "metadata": {},
     "output_type": "execute_result"
    }
   ],
   "source": [
    "dbs = DBSCAN(eps = 1, min_samples = 50)\n",
    "\n",
    "dbs.fit(X_train)"
   ]
  },
  {
   "cell_type": "code",
   "execution_count": 378,
   "metadata": {},
   "outputs": [],
   "source": [
    "labels = dbs.labels_"
   ]
  },
  {
   "cell_type": "code",
   "execution_count": 379,
   "metadata": {},
   "outputs": [
    {
     "data": {
      "text/plain": [
       "array([-1, -1, -1, ..., -1, -1, -1])"
      ]
     },
     "execution_count": 379,
     "metadata": {},
     "output_type": "execute_result"
    }
   ],
   "source": [
    "labels"
   ]
  },
  {
   "cell_type": "markdown",
   "metadata": {},
   "source": [
    "<span style='color:navy'> There is only one label, -1. This will give an error if we tried to compute the silhouette score. The DBSCAN didn't work. </span>"
   ]
  },
  {
   "cell_type": "code",
   "execution_count": 382,
   "metadata": {},
   "outputs": [
    {
     "ename": "ValueError",
     "evalue": "Number of labels is 1. Valid values are 2 to n_samples - 1 (inclusive)",
     "output_type": "error",
     "traceback": [
      "\u001b[0;31m---------------------------------------------------------------------------\u001b[0m",
      "\u001b[0;31mValueError\u001b[0m                                Traceback (most recent call last)",
      "\u001b[0;32m<ipython-input-382-9de87a6f29c7>\u001b[0m in \u001b[0;36m<module>\u001b[0;34m\u001b[0m\n\u001b[0;32m----> 1\u001b[0;31m \u001b[0mprint\u001b[0m\u001b[0;34m(\u001b[0m\u001b[0;34m'silhouette coefficient: %.3f'\u001b[0m \u001b[0;34m%\u001b[0m \u001b[0msilhouette_score\u001b[0m\u001b[0;34m(\u001b[0m\u001b[0mX_train\u001b[0m\u001b[0;34m,\u001b[0m \u001b[0mlabels\u001b[0m\u001b[0;34m)\u001b[0m\u001b[0;34m)\u001b[0m\u001b[0;34m\u001b[0m\u001b[0;34m\u001b[0m\u001b[0m\n\u001b[0m",
      "\u001b[0;32m/anaconda3/lib/python3.6/site-packages/sklearn/metrics/cluster/unsupervised.py\u001b[0m in \u001b[0;36msilhouette_score\u001b[0;34m(X, labels, metric, sample_size, random_state, **kwds)\u001b[0m\n\u001b[1;32m    115\u001b[0m         \u001b[0;32melse\u001b[0m\u001b[0;34m:\u001b[0m\u001b[0;34m\u001b[0m\u001b[0;34m\u001b[0m\u001b[0m\n\u001b[1;32m    116\u001b[0m             \u001b[0mX\u001b[0m\u001b[0;34m,\u001b[0m \u001b[0mlabels\u001b[0m \u001b[0;34m=\u001b[0m \u001b[0mX\u001b[0m\u001b[0;34m[\u001b[0m\u001b[0mindices\u001b[0m\u001b[0;34m]\u001b[0m\u001b[0;34m,\u001b[0m \u001b[0mlabels\u001b[0m\u001b[0;34m[\u001b[0m\u001b[0mindices\u001b[0m\u001b[0;34m]\u001b[0m\u001b[0;34m\u001b[0m\u001b[0;34m\u001b[0m\u001b[0m\n\u001b[0;32m--> 117\u001b[0;31m     \u001b[0;32mreturn\u001b[0m \u001b[0mnp\u001b[0m\u001b[0;34m.\u001b[0m\u001b[0mmean\u001b[0m\u001b[0;34m(\u001b[0m\u001b[0msilhouette_samples\u001b[0m\u001b[0;34m(\u001b[0m\u001b[0mX\u001b[0m\u001b[0;34m,\u001b[0m \u001b[0mlabels\u001b[0m\u001b[0;34m,\u001b[0m \u001b[0mmetric\u001b[0m\u001b[0;34m=\u001b[0m\u001b[0mmetric\u001b[0m\u001b[0;34m,\u001b[0m \u001b[0;34m**\u001b[0m\u001b[0mkwds\u001b[0m\u001b[0;34m)\u001b[0m\u001b[0;34m)\u001b[0m\u001b[0;34m\u001b[0m\u001b[0;34m\u001b[0m\u001b[0m\n\u001b[0m\u001b[1;32m    118\u001b[0m \u001b[0;34m\u001b[0m\u001b[0m\n\u001b[1;32m    119\u001b[0m \u001b[0;34m\u001b[0m\u001b[0m\n",
      "\u001b[0;32m/anaconda3/lib/python3.6/site-packages/sklearn/metrics/cluster/unsupervised.py\u001b[0m in \u001b[0;36msilhouette_samples\u001b[0;34m(X, labels, metric, **kwds)\u001b[0m\n\u001b[1;32m    215\u001b[0m     \u001b[0mn_samples\u001b[0m \u001b[0;34m=\u001b[0m \u001b[0mlen\u001b[0m\u001b[0;34m(\u001b[0m\u001b[0mlabels\u001b[0m\u001b[0;34m)\u001b[0m\u001b[0;34m\u001b[0m\u001b[0;34m\u001b[0m\u001b[0m\n\u001b[1;32m    216\u001b[0m     \u001b[0mlabel_freqs\u001b[0m \u001b[0;34m=\u001b[0m \u001b[0mnp\u001b[0m\u001b[0;34m.\u001b[0m\u001b[0mbincount\u001b[0m\u001b[0;34m(\u001b[0m\u001b[0mlabels\u001b[0m\u001b[0;34m)\u001b[0m\u001b[0;34m\u001b[0m\u001b[0;34m\u001b[0m\u001b[0m\n\u001b[0;32m--> 217\u001b[0;31m     \u001b[0mcheck_number_of_labels\u001b[0m\u001b[0;34m(\u001b[0m\u001b[0mlen\u001b[0m\u001b[0;34m(\u001b[0m\u001b[0mle\u001b[0m\u001b[0;34m.\u001b[0m\u001b[0mclasses_\u001b[0m\u001b[0;34m)\u001b[0m\u001b[0;34m,\u001b[0m \u001b[0mn_samples\u001b[0m\u001b[0;34m)\u001b[0m\u001b[0;34m\u001b[0m\u001b[0;34m\u001b[0m\u001b[0m\n\u001b[0m\u001b[1;32m    218\u001b[0m \u001b[0;34m\u001b[0m\u001b[0m\n\u001b[1;32m    219\u001b[0m     \u001b[0mkwds\u001b[0m\u001b[0;34m[\u001b[0m\u001b[0;34m'metric'\u001b[0m\u001b[0;34m]\u001b[0m \u001b[0;34m=\u001b[0m \u001b[0mmetric\u001b[0m\u001b[0;34m\u001b[0m\u001b[0;34m\u001b[0m\u001b[0m\n",
      "\u001b[0;32m/anaconda3/lib/python3.6/site-packages/sklearn/metrics/cluster/unsupervised.py\u001b[0m in \u001b[0;36mcheck_number_of_labels\u001b[0;34m(n_labels, n_samples)\u001b[0m\n\u001b[1;32m     33\u001b[0m     \u001b[0;32mif\u001b[0m \u001b[0;32mnot\u001b[0m \u001b[0;36m1\u001b[0m \u001b[0;34m<\u001b[0m \u001b[0mn_labels\u001b[0m \u001b[0;34m<\u001b[0m \u001b[0mn_samples\u001b[0m\u001b[0;34m:\u001b[0m\u001b[0;34m\u001b[0m\u001b[0;34m\u001b[0m\u001b[0m\n\u001b[1;32m     34\u001b[0m         raise ValueError(\"Number of labels is %d. Valid values are 2 \"\n\u001b[0;32m---> 35\u001b[0;31m                          \"to n_samples - 1 (inclusive)\" % n_labels)\n\u001b[0m\u001b[1;32m     36\u001b[0m \u001b[0;34m\u001b[0m\u001b[0m\n\u001b[1;32m     37\u001b[0m \u001b[0;34m\u001b[0m\u001b[0m\n",
      "\u001b[0;31mValueError\u001b[0m: Number of labels is 1. Valid values are 2 to n_samples - 1 (inclusive)"
     ]
    }
   ],
   "source": [
    "print('silhouette coefficient: %.3f' % silhouette_score(X_train, labels))"
   ]
  },
  {
   "cell_type": "code",
   "execution_count": 386,
   "metadata": {},
   "outputs": [],
   "source": [
    "# trying hierarchical model\n",
    "from sklearn.cluster import AgglomerativeClustering"
   ]
  },
  {
   "cell_type": "code",
   "execution_count": 387,
   "metadata": {},
   "outputs": [],
   "source": [
    "hir = AgglomerativeClustering(n_clusters = 2)"
   ]
  },
  {
   "cell_type": "code",
   "execution_count": 388,
   "metadata": {},
   "outputs": [
    {
     "data": {
      "text/plain": [
       "AgglomerativeClustering(affinity='euclidean', compute_full_tree='auto',\n",
       "            connectivity=None, linkage='ward', memory=None, n_clusters=2,\n",
       "            pooling_func='deprecated')"
      ]
     },
     "execution_count": 388,
     "metadata": {},
     "output_type": "execute_result"
    }
   ],
   "source": [
    "hir.fit(X_train)"
   ]
  },
  {
   "cell_type": "code",
   "execution_count": 389,
   "metadata": {},
   "outputs": [
    {
     "data": {
      "text/plain": [
       "array([0, 0, 0, ..., 0, 0, 0])"
      ]
     },
     "execution_count": 389,
     "metadata": {},
     "output_type": "execute_result"
    }
   ],
   "source": [
    "hir.labels_"
   ]
  },
  {
   "cell_type": "markdown",
   "metadata": {},
   "source": [
    "<span style='color:navy'> Again, there's only one label. Maybe this dataset is too scattered to be clustered, or just one big loose cluster. </span>"
   ]
  },
  {
   "cell_type": "code",
   "execution_count": 419,
   "metadata": {},
   "outputs": [],
   "source": [
    "# just to cut the doubt, I will grid search over the KMeans\n",
    "from sklearn.model_selection import GridSearchCV"
   ]
  },
  {
   "cell_type": "code",
   "execution_count": 420,
   "metadata": {},
   "outputs": [],
   "source": [
    "kmeans = KMeans()\n",
    "\n",
    "params = {'n_clusters' : [10, 200, 500]}\n",
    "\n",
    "gs = GridSearchCV(estimator = kmeans, param_grid = params, cv = 5)"
   ]
  },
  {
   "cell_type": "code",
   "execution_count": 421,
   "metadata": {},
   "outputs": [
    {
     "name": "stderr",
     "output_type": "stream",
     "text": [
      "/anaconda3/lib/python3.6/site-packages/sklearn/model_selection/_search.py:841: DeprecationWarning: The default of the `iid` parameter will change from True to False in version 0.22 and will be removed in 0.24. This will change numeric results when test-set sizes are unequal.\n",
      "  DeprecationWarning)\n"
     ]
    },
    {
     "data": {
      "text/plain": [
       "{'n_clusters': 500}"
      ]
     },
     "execution_count": 421,
     "metadata": {},
     "output_type": "execute_result"
    }
   ],
   "source": [
    "# fitting the entire dataset, before standarizing\n",
    "gs.fit(X)\n",
    "\n",
    "gs.best_params_"
   ]
  },
  {
   "cell_type": "code",
   "execution_count": 423,
   "metadata": {},
   "outputs": [
    {
     "name": "stdout",
     "output_type": "stream",
     "text": [
      "silhouette coefficient: 0.076\n"
     ]
    }
   ],
   "source": [
    "kmeans = KMeans(n_clusters = 500)\n",
    "kmeans.fit(X)\n",
    "labels = kmeans.labels_\n",
    "print('silhouette coefficient: %.3f' % silhouette_score(X, labels))"
   ]
  },
  {
   "cell_type": "code",
   "execution_count": null,
   "metadata": {},
   "outputs": [],
   "source": []
  }
 ],
 "metadata": {
  "kernelspec": {
   "display_name": "Python 3",
   "language": "python",
   "name": "python3"
  },
  "language_info": {
   "codemirror_mode": {
    "name": "ipython",
    "version": 3
   },
   "file_extension": ".py",
   "mimetype": "text/x-python",
   "name": "python",
   "nbconvert_exporter": "python",
   "pygments_lexer": "ipython3",
   "version": "3.6.8"
  }
 },
 "nbformat": 4,
 "nbformat_minor": 2
}
